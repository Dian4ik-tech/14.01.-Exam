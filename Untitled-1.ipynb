{
 "cells": [
  {
   "cell_type": "markdown",
   "metadata": {},
   "source": [
    "# TASK 4"
   ]
  },
  {
   "cell_type": "code",
   "execution_count": 120,
   "metadata": {},
   "outputs": [],
   "source": [
    "import requests\n",
    "import re"
   ]
  },
  {
   "cell_type": "code",
   "execution_count": 121,
   "metadata": {},
   "outputs": [],
   "source": [
    "genome = input(\"Write chosen genome: \")\n",
    "tandems = [\"AGATC\", \"AATG\", \"TATC\"]"
   ]
  },
  {
   "cell_type": "code",
   "execution_count": 122,
   "metadata": {},
   "outputs": [],
   "source": [
    "def task_4(genome, tandems):\n",
    "    response = requests.get(f\"https://api.genome.ucsc.edu/getData/sequence?genome={genome};chrom=chrM\")\n",
    "    if response.status_code != 200:\n",
    "        print(\"Nav atrasts tads genoms\")\n",
    "        return \n",
    "    dna_seq = response.json()[\"dna\"]\n",
    "\n",
    "    counting_results = count_tandems(dna_seq, tandems)\n",
    "\n",
    "    for pattern, amount in counting_results.items():\n",
    "        print(f\"{pattern} : {amount}\")"
   ]
  },
  {
   "cell_type": "code",
   "execution_count": 123,
   "metadata": {},
   "outputs": [],
   "source": [
    "def count_tandems(dna_seq : str, patterns):\n",
    "    #We should have same case\n",
    "    dna_seq = dna_seq.lower()\n",
    "    patterns = [pattern.lower() for pattern in patterns]\n",
    "\n",
    "    counting_results = {}\n",
    "    for pattern in patterns:\n",
    "        patterns_found = dna_seq.count(pattern)\n",
    "        counting_results[pattern] = patterns_found\n",
    "    return counting_results"
   ]
  },
  {
   "cell_type": "code",
   "execution_count": 124,
   "metadata": {},
   "outputs": [
    {
     "name": "stdout",
     "output_type": "stream",
     "text": [
      "agatc : 1\n",
      "aatg : 45\n",
      "tatc : 88\n"
     ]
    }
   ],
   "source": [
    "task_4(genome, tandems)"
   ]
  },
  {
   "cell_type": "markdown",
   "metadata": {},
   "source": [
    "# TASK 3"
   ]
  },
  {
   "cell_type": "code",
   "execution_count": 125,
   "metadata": {},
   "outputs": [],
   "source": [
    "import requests\n",
    "import matplotlib.pyplot as plt"
   ]
  },
  {
   "cell_type": "code",
   "execution_count": 126,
   "metadata": {},
   "outputs": [],
   "source": [
    "def count_tandems(dna_seq : str, patterns):\n",
    "    #We should have same case\n",
    "    dna_seq = dna_seq.lower()\n",
    "    patterns = [pattern.lower() for pattern in patterns]\n",
    "\n",
    "    counting_results = {}\n",
    "    for pattern in patterns:\n",
    "        patterns_found = dna_seq.count(pattern)\n",
    "        counting_results[pattern] = patterns_found\n",
    "    return counting_results"
   ]
  },
  {
   "cell_type": "code",
   "execution_count": 127,
   "metadata": {},
   "outputs": [],
   "source": [
    "response = requests.get(\"https://gitlab.vitk.lv/grabis/biotech/-/raw/master/dns.csv\")"
   ]
  },
  {
   "cell_type": "code",
   "execution_count": 128,
   "metadata": {},
   "outputs": [],
   "source": [
    "csvTable : str = response.content.decode(\"utf-8\") "
   ]
  },
  {
   "cell_type": "code",
   "execution_count": 129,
   "metadata": {},
   "outputs": [],
   "source": [
    "pairs = list(map(lambda x: x.split(\", \"), csvTable.split(\"\\n\")))"
   ]
  },
  {
   "cell_type": "code",
   "execution_count": 130,
   "metadata": {},
   "outputs": [],
   "source": [
    "tandems = [\"atg\", \"gcc\", \"ctg\", \"tgg\", \"atg\", \"cgc\", \"ctc\", \"ccc\", \"gcg\"]"
   ]
  },
  {
   "cell_type": "code",
   "execution_count": 131,
   "metadata": {},
   "outputs": [],
   "source": [
    "name2tandems = {}\n",
    "for name, dna_seq in pairs:\n",
    "    name2tandems[name] = count_tandems(dna_seq, tandems)\n"
   ]
  },
  {
   "cell_type": "markdown",
   "metadata": {},
   "source": [
    "## Formula, ko es izmantoju:\n",
    "$$ \\frac{sametandemsamount * 2}{humantandemsamount + othertandemsamount} * 100$$"
   ]
  },
  {
   "cell_type": "code",
   "execution_count": 132,
   "metadata": {},
   "outputs": [],
   "source": [
    "def count_tandems_amount(tandems):\n",
    "    return sum(tandems.values())"
   ]
  },
  {
   "cell_type": "code",
   "execution_count": 133,
   "metadata": {},
   "outputs": [],
   "source": [
    "name2tandemsamount = {}\n",
    "for name, tandems in name2tandems.items():\n",
    "    name2tandemsamount[name] = count_tandems_amount(tandems)    "
   ]
  },
  {
   "cell_type": "code",
   "execution_count": 134,
   "metadata": {},
   "outputs": [],
   "source": [
    "def count_simmilar_tandems(first_tandems, second_tandems):\n",
    "    same_tandems_sum = 0\n",
    "    for tandem in first_tandems:\n",
    "        if tandem in second_tandems:\n",
    "            same_tandems_sum += min(first_tandems[tandem], second_tandems[tandem])\n",
    "    return same_tandems_sum"
   ]
  },
  {
   "cell_type": "code",
   "execution_count": 135,
   "metadata": {},
   "outputs": [],
   "source": [
    "human_tandems = name2tandems[\"Human\"]"
   ]
  },
  {
   "cell_type": "code",
   "execution_count": 115,
   "metadata": {},
   "outputs": [],
   "source": [
    "name2simmilarityWithHuman = {}\n",
    "for name, tandems in name2tandems.items():\n",
    "    simmilar_tandems = count_simmilar_tandems(human_tandems, tandems)\n",
    "    simmilarity = simmilar_tandems * 2/(name2tandemsamount[\"Human\"] + name2tandemsamount[name]) * 100\n",
    "    name2simmilarityWithHuman[name] = simmilarity"
   ]
  },
  {
   "cell_type": "code",
   "execution_count": 136,
   "metadata": {},
   "outputs": [
    {
     "data": {
      "text/plain": [
       "Text(0.5, 1.0, 'DNA simmilarity of human and other species (%)')"
      ]
     },
     "execution_count": 136,
     "metadata": {},
     "output_type": "execute_result"
    },
    {
     "data": {
      "image/png": "[encoded data removed]",
      "text/plain": [
       "<Figure size 720x360 with 1 Axes>"
      ]
     },
     "metadata": {
      "needs_background": "light"
     },
     "output_type": "display_data"
    }
   ],
   "source": [
    "fig = plt.figure(figsize=(10,5))\n",
    "labels = list(name2simmilarityWithHuman.keys())\n",
    "values = list(name2simmilarityWithHuman.values())\n",
    "plt.bar(labels, values, color ='maroon',\n",
    "        width = 0.4)\n",
    "\n",
    "plt.ylabel(\"Simmilarity to human (%)\")\n",
    "plt.xlabel(\"Species\")\n",
    "plt.title(\"DNA simmilarity of human and other species (%)\")"
   ]
  },
  {
   "cell_type": "code",
   "execution_count": null,
   "metadata": {},
   "outputs": [],
   "source": []
  }
 ],
 "metadata": {
  "interpreter": {
   "hash": "b0fa6594d8f4cbf19f97940f81e996739fb7646882a419484c72d19e05852a7e"
  },
  "kernelspec": {
   "display_name": "Python 3.9.7 64-bit",
   "language": "python",
   "name": "python3"
  },
  "language_info": {
   "codemirror_mode": {
    "name": "ipython",
    "version": 3
   },
   "file_extension": ".py",
   "mimetype": "text/x-python",
   "name": "python",
   "nbconvert_exporter": "python",
   "pygments_lexer": "ipython3",
   "version": "3.9.7"
  },
  "orig_nbformat": 4
 },
 "nbformat": 4,
 "nbformat_minor": 2
}
